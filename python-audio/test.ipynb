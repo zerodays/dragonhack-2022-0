{
 "cells": [
  {
   "cell_type": "code",
   "execution_count": 1,
   "metadata": {},
   "outputs": [],
   "source": [
    "import matplotlib.pyplot as plt\n",
    "import numpy as np\n",
    "import cv2"
   ]
  },
  {
   "cell_type": "code",
   "execution_count": 11,
   "metadata": {},
   "outputs": [
    {
     "ename": "KeyboardInterrupt",
     "evalue": "",
     "output_type": "error",
     "traceback": [
      "\u001b[1;31m---------------------------------------------------------------------------\u001b[0m",
      "\u001b[1;31mKeyboardInterrupt\u001b[0m                         Traceback (most recent call last)",
      "\u001b[1;32mc:\\Users\\timvu\\OneDrive\\Desktop\\dragonhack2022\\dragonhack-2022-0\\python-audio\\test.ipynb Cell 2'\u001b[0m in \u001b[0;36m<cell line: 4>\u001b[1;34m()\u001b[0m\n\u001b[0;32m      <a href='vscode-notebook-cell:/c%3A/Users/timvu/OneDrive/Desktop/dragonhack2022/dragonhack-2022-0/python-audio/test.ipynb#ch0000001?line=0'>1</a>\u001b[0m img \u001b[39m=\u001b[39m cv2\u001b[39m.\u001b[39mimread(\u001b[39m'\u001b[39m\u001b[39mslika.png\u001b[39m\u001b[39m'\u001b[39m, \u001b[39m0\u001b[39m)\n\u001b[0;32m      <a href='vscode-notebook-cell:/c%3A/Users/timvu/OneDrive/Desktop/dragonhack2022/dragonhack-2022-0/python-audio/test.ipynb#ch0000001?line=1'>2</a>\u001b[0m cv2\u001b[39m.\u001b[39mimshow(\u001b[39m'\u001b[39m\u001b[39mimage\u001b[39m\u001b[39m'\u001b[39m, img)\n\u001b[1;32m----> <a href='vscode-notebook-cell:/c%3A/Users/timvu/OneDrive/Desktop/dragonhack2022/dragonhack-2022-0/python-audio/test.ipynb#ch0000001?line=3'>4</a>\u001b[0m cv2\u001b[39m.\u001b[39;49mwaitKey(\u001b[39m0\u001b[39;49m)\n\u001b[0;32m      <a href='vscode-notebook-cell:/c%3A/Users/timvu/OneDrive/Desktop/dragonhack2022/dragonhack-2022-0/python-audio/test.ipynb#ch0000001?line=4'>5</a>\u001b[0m cv2\u001b[39m.\u001b[39mdestroyAllWindows()\n",
      "\u001b[1;31mKeyboardInterrupt\u001b[0m: "
     ]
    },
    {
     "ename": "",
     "evalue": "",
     "output_type": "error",
     "traceback": [
      "\u001b[1;31mThe Kernel crashed while executing code in the the current cell or a previous cell. Please review the code in the cell(s) to identify a possible cause of the failure. Click <a href='https://aka.ms/vscodeJupyterKernelCrash'>here</a> for more info. View Jupyter <a href='command:jupyter.viewOutput'>log</a> for further details."
     ]
    }
   ],
   "source": [
    "img = cv2.imread('slika.png', 0)\n",
    "cv2.imshow('image', img)"
   ]
  },
  {
   "cell_type": "code",
   "execution_count": 10,
   "metadata": {},
   "outputs": [
    {
     "name": "stdout",
     "output_type": "stream",
     "text": [
      "0.1857638888888889\n"
     ]
    }
   ],
   "source": [
    "H_REGIONS = 5\n",
    "V_REGIONS = 3\n",
    "\n",
    "img_size = img.shape[:2]\n",
    "\n",
    "region_x = int(img_size[1] // H_REGIONS)\n",
    "region_y = int(img_size[0] // V_REGIONS)\n",
    "\n",
    "regions_x = []\n",
    "regions_y = []\n",
    "\n",
    "for hi in range(H_REGIONS):\n",
    "    region = img[hi * region_x: (hi + 1) * region_x, :]\n",
    "    mean = np.mean(region) / 255\n",
    "    regions_x.append(mean)\n",
    "\n",
    "print(regions_x)\n",
    "\n",
    "for vi in range(V_REGIONS):\n",
    "    region = img[:, vi * region_y: (vi + 1) * region_y]\n",
    "    mean = np.mean(region) / 255\n",
    "    regions_y.append(mean)\n",
    "\n",
    "print(regions_y)\n",
    "\n",
    "# x_neki = np.average(img, axis=0) / 255\n",
    "# print(np.argmin(x_neki) / img_size[1])\n",
    "\n",
    "# np.argmin(regions_y)\n"
   ]
  }
 ],
 "metadata": {
  "interpreter": {
   "hash": "66a83b0ca45869b5dfd13e9b2064750357b86d79680433f9e1ee2176b12261ab"
  },
  "kernelspec": {
   "display_name": "Python 3.10.4 ('dragonhack')",
   "language": "python",
   "name": "python3"
  },
  "language_info": {
   "codemirror_mode": {
    "name": "ipython",
    "version": 3
   },
   "file_extension": ".py",
   "mimetype": "text/x-python",
   "name": "python",
   "nbconvert_exporter": "python",
   "pygments_lexer": "ipython3",
   "version": "3.10.4"
  },
  "orig_nbformat": 4
 },
 "nbformat": 4,
 "nbformat_minor": 2
}
