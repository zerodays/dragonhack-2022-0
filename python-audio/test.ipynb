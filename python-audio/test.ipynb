{
 "cells": [
  {
   "cell_type": "code",
   "execution_count": 6,
   "metadata": {},
   "outputs": [],
   "source": [
    "import matplotlib.pyplot as plt\n",
    "import numpy as np\n",
    "import cv2\n",
    "import os\n",
    "import time \n",
    "\n",
    "import simpleaudio as sa"
   ]
  },
  {
   "cell_type": "code",
   "execution_count": 7,
   "metadata": {},
   "outputs": [],
   "source": [
    "img = cv2.imread('slika.png', 0)\n",
    "# cv2.imshow('image', img)"
   ]
  },
  {
   "cell_type": "code",
   "execution_count": 8,
   "metadata": {},
   "outputs": [],
   "source": [
    "def read_sounds():\n",
    "    folder = \"./sounds\"\n",
    "    tags_vertical = [\"low\", \"mid\", \"high\"]\n",
    "    tags_horizontal = [\"50L\", \"25L\", \"C\", \"25R\", \"50R\"]\n",
    "\n",
    "    sounds = []\n",
    "\n",
    "    for vtag in tags_vertical:\n",
    "        row = []\n",
    "        for htag in tags_horizontal:\n",
    "            path = os.path.join(folder, \"beep_\" + vtag + \"_\" + htag + \".wav\")\n",
    "            wave_obj = sa.WaveObject.from_wave_file(path)\n",
    "            row.append(wave_obj)\n",
    "        sounds.append(row)\n",
    "\n",
    "    return sounds"
   ]
  },
  {
   "cell_type": "code",
   "execution_count": 9,
   "metadata": {},
   "outputs": [],
   "source": [
    "def process_frame(img, H_REGIONS=5, V_REGIONS=3):\n",
    "    img_size = img.shape[:2]\n",
    "\n",
    "    n_regions_h = int(img_size[1] // H_REGIONS)\n",
    "    n_regions_v = int(img_size[0] // V_REGIONS)\n",
    "\n",
    "    regions_x = []\n",
    "    regions_y = []\n",
    "\n",
    "    for hi in range(H_REGIONS):\n",
    "        region = img[hi * n_regions_h: (hi + 1) * n_regions_h, :]\n",
    "        mean = np.mean(region) / 255\n",
    "        regions_x.append(mean)\n",
    "\n",
    "    for vi in range(V_REGIONS):\n",
    "        region = img[:, vi * n_regions_v: (vi + 1) * n_regions_v]\n",
    "        mean = np.mean(region) / 255\n",
    "        regions_y.append(mean)\n",
    "\n",
    "    x, y = np.argmin(regions_x), np.argmin(regions_y)\n",
    "\n",
    "    freq = round(5 / max(min(regions_x[x], regions_y[y]), 0.5))\n",
    "\n",
    "    return (x, y), freq\n",
    "    "
   ]
  },
  {
   "cell_type": "code",
   "execution_count": 10,
   "metadata": {},
   "outputs": [
    {
     "name": "stdout",
     "output_type": "stream",
     "text": [
      "4 0\n",
      "4 0\n",
      "4 0\n",
      "4 0\n",
      "4 0\n",
      "4 0\n",
      "4 0\n",
      "4 0\n",
      "4 0\n",
      "4 0\n",
      "4 0\n",
      "4 0\n",
      "4 0\n",
      "4 0\n",
      "4 0\n",
      "4 0\n",
      "4 0\n",
      "4 0\n",
      "4 0\n",
      "4 0\n",
      "4 0\n",
      "4 0\n",
      "4 0\n",
      "4 0\n",
      "4 0\n",
      "4 0\n",
      "4 0\n",
      "4 0\n",
      "4 0\n"
     ]
    },
    {
     "ename": "KeyboardInterrupt",
     "evalue": "",
     "output_type": "error",
     "traceback": [
      "\u001b[1;31m---------------------------------------------------------------------------\u001b[0m",
      "\u001b[1;31mKeyboardInterrupt\u001b[0m                         Traceback (most recent call last)",
      "\u001b[1;32mc:\\Users\\timvu\\OneDrive\\Desktop\\dragonhack2022\\dragonhack-2022-0\\python-audio\\test.ipynb Cell 5'\u001b[0m in \u001b[0;36m<cell line: 3>\u001b[1;34m()\u001b[0m\n\u001b[0;32m      <a href='vscode-notebook-cell:/c%3A/Users/timvu/OneDrive/Desktop/dragonhack2022/dragonhack-2022-0/python-audio/test.ipynb#ch0000002?line=5'>6</a>\u001b[0m \u001b[39mprint\u001b[39m(x, y)\n\u001b[0;32m      <a href='vscode-notebook-cell:/c%3A/Users/timvu/OneDrive/Desktop/dragonhack2022/dragonhack-2022-0/python-audio/test.ipynb#ch0000002?line=6'>7</a>\u001b[0m s \u001b[39m=\u001b[39m sounds[y][x]\u001b[39m.\u001b[39mplay()\n\u001b[1;32m----> <a href='vscode-notebook-cell:/c%3A/Users/timvu/OneDrive/Desktop/dragonhack2022/dragonhack-2022-0/python-audio/test.ipynb#ch0000002?line=7'>8</a>\u001b[0m time\u001b[39m.\u001b[39;49msleep(\u001b[39m1\u001b[39;49m \u001b[39m/\u001b[39;49m freq)\n",
      "\u001b[1;31mKeyboardInterrupt\u001b[0m: "
     ]
    }
   ],
   "source": [
    "sounds = read_sounds()\n",
    "\n",
    "for i in range(1000):\n",
    "    (x, y), freq = process_frame(img)\n",
    "    # print(freq)\n",
    "    print(x, y)\n",
    "    s = sounds[y][x].play()\n",
    "    time.sleep(1 / freq)\n"
   ]
  }
 ],
 "metadata": {
  "interpreter": {
   "hash": "66a83b0ca45869b5dfd13e9b2064750357b86d79680433f9e1ee2176b12261ab"
  },
  "kernelspec": {
   "display_name": "Python 3.10.4 ('dragonhack')",
   "language": "python",
   "name": "python3"
  },
  "language_info": {
   "codemirror_mode": {
    "name": "ipython",
    "version": 3
   },
   "file_extension": ".py",
   "mimetype": "text/x-python",
   "name": "python",
   "nbconvert_exporter": "python",
   "pygments_lexer": "ipython3",
   "version": "3.10.4"
  },
  "orig_nbformat": 4
 },
 "nbformat": 4,
 "nbformat_minor": 2
}
